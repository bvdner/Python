{
 "cells": [
  {
   "cell_type": "code",
   "execution_count": 28,
   "id": "5093fcf5-7540-4e60-8178-a6aab7718c8e",
   "metadata": {},
   "outputs": [],
   "source": [
    "import numpy as np\n",
    "import pandas as pd\n",
    "import matplotlib.pyplot as plt"
   ]
  },
  {
   "cell_type": "code",
   "execution_count": 10,
   "id": "f29fc81f-1dc2-4640-b7c6-d74c0109cc19",
   "metadata": {},
   "outputs": [
    {
     "name": "stdout",
     "output_type": "stream",
     "text": [
      "     Survived  PassengerId  Pclass  \\\n",
      "0           0          530       2   \n",
      "1           0          466       3   \n",
      "2           0          753       3   \n",
      "3           0          855       2   \n",
      "4           0          333       1   \n",
      "..        ...          ...     ...   \n",
      "618         0          660       1   \n",
      "619         1           85       2   \n",
      "620         1          521       1   \n",
      "621         1          644       3   \n",
      "622         1          831       3   \n",
      "\n",
      "                                               Name     Sex   Age  SibSp  \\\n",
      "0                      Hocking\\t Mr. Richard George    male  23.0      2   \n",
      "1                  Goncalves\\t Mr. Manuel Estanslas    male  38.0      0   \n",
      "2                 Vande Velde\\t Mr. Johannes Joseph    male  33.0      0   \n",
      "3    Carter\\t Mrs. Ernest Courtenay (Lilian Hughes)  female  44.0      1   \n",
      "4                        Graham\\t Mr. George Edward    male  38.0      0   \n",
      "..                                              ...     ...   ...    ...   \n",
      "618                     Newell\\t Mr. Arthur Webster    male  58.0      0   \n",
      "619                            Ilett\\t Miss. Bertha  female  17.0      0   \n",
      "620                          Perreault\\t Miss. Anne  female  30.0      0   \n",
      "621                                Foo\\t Mr. Choong    male   NaN      0   \n",
      "622        Yasbeck\\t Mrs. Antoni (Selini Alexander)  female  15.0      1   \n",
      "\n",
      "     Parch              Ticket      Fare Cabin Embarked  \n",
      "0        1               29104   11.5000   NaN        S  \n",
      "1        0  SOTON/O.Q. 3101306    7.0500   NaN        S  \n",
      "2        0              345780    9.5000   NaN        S  \n",
      "3        0              244252   26.0000   NaN        S  \n",
      "4        1            PC 17582  153.4625   C91        S  \n",
      "..     ...                 ...       ...   ...      ...  \n",
      "618      2               35273  113.2750   D48        C  \n",
      "619      0          SO/C 14885   10.5000   NaN        S  \n",
      "620      0               12749   93.5000   B73        S  \n",
      "621      0                1601   56.4958   NaN        S  \n",
      "622      0                2659   14.4542   NaN        C  \n",
      "\n",
      "[623 rows x 12 columns]\n"
     ]
    }
   ],
   "source": [
    "alldata = pd.read_csv('titanic.tsv', header=0, sep=\"\\t\")\n",
    "print(alldata)"
   ]
  },
  {
   "cell_type": "code",
   "execution_count": 3,
   "id": "c001068b-c9aa-41af-8916-3af51fed6816",
   "metadata": {},
   "outputs": [
    {
     "name": "stdout",
     "output_type": "stream",
     "text": [
      "78.00963081861958 %\n",
      "19.743178170144464 %\n",
      "0.32102728731942215 %\n"
     ]
    }
   ],
   "source": [
    "print(alldata[\"Cabin\"].isna().sum()/len(alldata[\"Cabin\"])*100,'%')\n",
    "print(alldata[\"Age\"].isna().sum()/len(alldata[\"Age\"])*100,'%')\n",
    "print(alldata[\"Embarked\"].isna().sum()/len(alldata[\"Embarked\"])*100,'%')"
   ]
  },
  {
   "cell_type": "markdown",
   "id": "711bffa8-9b64-4104-991a-bb4be40251d6",
   "metadata": {},
   "source": [
    "<font color = 'hotpink'> 78% records from Cabin column is empty, so we're better of removing it. Age and Embarked have N/A values too, but we can just drop the rows </font>"
   ]
  },
  {
   "cell_type": "code",
   "execution_count": 11,
   "id": "e5168e85-5d9c-4244-8a21-bea96697041b",
   "metadata": {},
   "outputs": [
    {
     "name": "stdout",
     "output_type": "stream",
     "text": [
      "     Survived  PassengerId  Pclass  \\\n",
      "0           0          530       2   \n",
      "1           0          466       3   \n",
      "2           0          753       3   \n",
      "3           0          855       2   \n",
      "4           0          333       1   \n",
      "..        ...          ...     ...   \n",
      "617         1          609       2   \n",
      "618         0          660       1   \n",
      "619         1           85       2   \n",
      "620         1          521       1   \n",
      "622         1          831       3   \n",
      "\n",
      "                                                  Name     Sex   Age  SibSp  \\\n",
      "0                         Hocking\\t Mr. Richard George    male  23.0      2   \n",
      "1                     Goncalves\\t Mr. Manuel Estanslas    male  38.0      0   \n",
      "2                    Vande Velde\\t Mr. Johannes Joseph    male  33.0      0   \n",
      "3       Carter\\t Mrs. Ernest Courtenay (Lilian Hughes)  female  44.0      1   \n",
      "4                           Graham\\t Mr. George Edward    male  38.0      0   \n",
      "..                                                 ...     ...   ...    ...   \n",
      "617  Laroche\\t Mrs. Joseph (Juliette Marie Louise L...  female  22.0      1   \n",
      "618                        Newell\\t Mr. Arthur Webster    male  58.0      0   \n",
      "619                               Ilett\\t Miss. Bertha  female  17.0      0   \n",
      "620                             Perreault\\t Miss. Anne  female  30.0      0   \n",
      "622           Yasbeck\\t Mrs. Antoni (Selini Alexander)  female  15.0      1   \n",
      "\n",
      "     Parch              Ticket      Fare Embarked  \n",
      "0        1               29104   11.5000        S  \n",
      "1        0  SOTON/O.Q. 3101306    7.0500        S  \n",
      "2        0              345780    9.5000        S  \n",
      "3        0              244252   26.0000        S  \n",
      "4        1            PC 17582  153.4625        S  \n",
      "..     ...                 ...       ...      ...  \n",
      "617      2       SC/Paris 2123   41.5792        C  \n",
      "618      2               35273  113.2750        C  \n",
      "619      0          SO/C 14885   10.5000        S  \n",
      "620      0               12749   93.5000        S  \n",
      "622      0                2659   14.4542        C  \n",
      "\n",
      "[498 rows x 11 columns]\n"
     ]
    }
   ],
   "source": [
    "alldata = alldata.drop('Cabin', axis=1) \n",
    "alldata = alldata = alldata.dropna()\n",
    "print(alldata)"
   ]
  },
  {
   "cell_type": "code",
   "execution_count": 68,
   "id": "c593b567-7cd6-413a-81b9-30919176a99c",
   "metadata": {},
   "outputs": [],
   "source": [
    "def filter(x):\n",
    "    if x <= 2:\n",
    "        return 'infant'\n",
    "    if (x > 2 and x <= 17):\n",
    "        return 'child'\n",
    "    if (x > 17 and x <= 49):\n",
    "        return 'adult'\n",
    "    if x > 50:\n",
    "        return 'elder'\n",
    "\n",
    "alldata['Age Category'] = alldata['Age'].apply(filter)"
   ]
  },
  {
   "cell_type": "markdown",
   "id": "b59face4-30bc-4532-a72a-2d74c5118654",
   "metadata": {},
   "source": [
    "<font color = 'hotpink'> I'll check survivability rate for distinct groups etc. </font>\n",
    "\n",
    "<font color = 'hotpink'> Survivability has binomial distribution, which means mean of the values will show me survivability rate</font>\n",
    "\n",
    "<font color = 'hotpink'> Class, age category and sex seem to be the key factors affecting one's chances of survival, so I'll first check % of people who survived according to each category.</font>"
   ]
  },
  {
   "cell_type": "code",
   "execution_count": 69,
   "id": "8c95a381-ae92-499d-aa03-6465397c2baa",
   "metadata": {},
   "outputs": [
    {
     "data": {
      "text/plain": [
       "([<matplotlib.patches.Wedge at 0x7f79290c35e0>,\n",
       "  <matplotlib.patches.Wedge at 0x7f79290c3a30>],\n",
       " [Text(-0.8476136066136499, 0.7011071058571586, 'female'),\n",
       "  Text(0.8476136066136502, -0.7011071058571582, 'male')])"
      ]
     },
     "execution_count": 69,
     "metadata": {},
     "output_type": "execute_result"
    },
    {
     "data": {
      "image/png": "[encoded data removed]",
      "text/plain": [
       "<Figure size 640x480 with 1 Axes>"
      ]
     },
     "metadata": {},
     "output_type": "display_data"
    }
   ],
   "source": [
    "mylabels1 =  ['female','male']\n",
    "mycolors1 = ['deeppink','hotpink']\n",
    "plt.pie(alldata.groupby(['Sex'])['Survived'].mean(), labels = mylabels1, colors=mycolors1)"
   ]
  },
  {
   "cell_type": "code",
   "execution_count": 70,
   "id": "a27d7862-d851-40eb-a03d-73f53c99c495",
   "metadata": {},
   "outputs": [
    {
     "data": {
      "text/plain": [
       "Pclass\n",
       "1    67.826087\n",
       "2    47.244094\n",
       "3    23.437500\n",
       "Name: Survived, dtype: float64"
      ]
     },
     "execution_count": 70,
     "metadata": {},
     "output_type": "execute_result"
    }
   ],
   "source": [
    "alldata.groupby(['Pclass'])['Survived'].mean() * 100"
   ]
  },
  {
   "cell_type": "code",
   "execution_count": 71,
   "id": "6f2e1547-0f12-482d-9156-5812ff387269",
   "metadata": {},
   "outputs": [
    {
     "data": {
      "text/plain": [
       "([<matplotlib.patches.Wedge at 0x7f7929097040>,\n",
       "  <matplotlib.patches.Wedge at 0x7f7929097430>,\n",
       "  <matplotlib.patches.Wedge at 0x7f7929097820>],\n",
       " [Text(0.03561606801937873, 1.099423255938694, '1'),\n",
       "  Text(-0.5880156970483469, -0.9296437704974669, '2'),\n",
       "  Text(0.9481952879998243, -0.5576071160009799, '3')])"
      ]
     },
     "execution_count": 71,
     "metadata": {},
     "output_type": "execute_result"
    },
    {
     "data": {
      "image/png": "[encoded data removed]",
      "text/plain": [
       "<Figure size 640x480 with 1 Axes>"
      ]
     },
     "metadata": {},
     "output_type": "display_data"
    }
   ],
   "source": [
    "mylabels2 =  [1,2,3]\n",
    "mycolors2 = ['deeppink','hotpink', '#8B3A62']\n",
    "plt.pie(alldata.groupby(['Pclass'])['Survived'].mean(), labels = mylabels2, colors = mycolors2)"
   ]
  },
  {
   "cell_type": "code",
   "execution_count": 72,
   "id": "1652947e-dca8-400d-bac9-c3d98f378d64",
   "metadata": {},
   "outputs": [
    {
     "data": {
      "text/plain": [
       "Age Category\n",
       "adult     37.222222\n",
       "child     48.648649\n",
       "elder     37.209302\n",
       "infant    57.142857\n",
       "Name: Survived, dtype: float64"
      ]
     },
     "execution_count": 72,
     "metadata": {},
     "output_type": "execute_result"
    }
   ],
   "source": [
    "alldata.groupby(['Age Category'])['Survived'].mean() * 100"
   ]
  },
  {
   "cell_type": "code",
   "execution_count": 73,
   "id": "3503375e-c611-43eb-acfa-1e7ef34eb636",
   "metadata": {},
   "outputs": [
    {
     "data": {
      "text/plain": [
       "([<matplotlib.patches.Wedge at 0x7f7929066310>,\n",
       "  <matplotlib.patches.Wedge at 0x7f79290d75e0>,\n",
       "  <matplotlib.patches.Wedge at 0x7f79290669a0>,\n",
       "  <matplotlib.patches.Wedge at 0x7f7929066cd0>],\n",
       " [Text(0.8764595881154127, 0.6646943586345241, 'adult'),\n",
       "  Text(-0.5981487132029939, 0.9231566047500298, 'child'),\n",
       "  Text(-0.9649303723290344, -0.5281187144543841, 'elder'),\n",
       "  Text(0.5979406558085496, -0.9232913798640393, 'infant')])"
      ]
     },
     "execution_count": 73,
     "metadata": {},
     "output_type": "execute_result"
    },
    {
     "data": {
      "image/png": "[encoded data removed]",
      "text/plain": [
       "<Figure size 640x480 with 1 Axes>"
      ]
     },
     "metadata": {},
     "output_type": "display_data"
    }
   ],
   "source": [
    "mylabels3 =  ['adult','child','elder','infant']\n",
    "mycolors3 = ['deeppink','hotpink', '#8B3A62', '#8B1C62']\n",
    "plt.pie(alldata.groupby(['Age Category'])['Survived'].mean(), labels = mylabels3, colors = mycolors3)"
   ]
  },
  {
   "cell_type": "markdown",
   "id": "6fd1e81d-7e93-4d3d-bb3d-edecf3eec408",
   "metadata": {},
   "source": [
    "<font color = 'hotpink'> As we can see, \"children and women first\" rule applied to Sinking of the Titanic. Women have clearly bigger survivability rate, same goes to age categories which include minors. We can also notice how survivability rate for each class is significantly different, which may suggest higher class people had higher priority</font>\n",
    "\n",
    "<font color = 'hotpink'> What if we intersected each of the 3 groups and saw which combination had the highest rate? </font>"
   ]
  },
  {
   "cell_type": "code",
   "execution_count": 74,
   "id": "eb2e3179-6341-4e90-9b12-46d7edf8a46d",
   "metadata": {},
   "outputs": [
    {
     "data": {
      "text/plain": [
       "Sex     Pclass  Age Category\n",
       "female  1       adult           100.000000\n",
       "                child           100.000000\n",
       "                elder           100.000000\n",
       "        2       adult            92.307692\n",
       "                child           100.000000\n",
       "                elder            50.000000\n",
       "        3       adult            40.425532\n",
       "                child            47.368421\n",
       "                elder           100.000000\n",
       "                infant           40.000000\n",
       "male    1       adult            43.181818\n",
       "                child           100.000000\n",
       "                elder            26.666667\n",
       "                infant          100.000000\n",
       "        2       adult             7.272727\n",
       "                child            60.000000\n",
       "                elder            10.000000\n",
       "                infant          100.000000\n",
       "        3       adult            14.388489\n",
       "                child            21.212121\n",
       "                elder             0.000000\n",
       "                infant           40.000000\n",
       "Name: Survived, dtype: float64"
      ]
     },
     "execution_count": 74,
     "metadata": {},
     "output_type": "execute_result"
    }
   ],
   "source": [
    "alldata.groupby(['Sex','Pclass','Age Category'], group_keys=False)['Survived'].mean() * 100"
   ]
  },
  {
   "cell_type": "markdown",
   "id": "8a7d30b9-0d97-48a3-8620-2fa61deef448",
   "metadata": {},
   "source": [
    "<font color = 'hotpink'> The first thing we can see is that no matter the age group, all 1st class women have survived. </font>\n",
    "\n",
    "<font color = 'hotpink'> The other groups with 100% survivability  rate are:\n",
    "- 2nd class female children\n",
    "- 3rd class female elders\n",
    "- 1st class male children\n",
    "- 1st class male infants\n",
    "- 2nd class male infants\n",
    "</font>\n",
    "\n",
    "<font color = 'hotpink'> It may lead us to believe that being a kid nearly guaranteed you to survive the sinking. What if we lower the bar and check out which groups have at least 60% survivability rate?"
   ]
  },
  {
   "cell_type": "code",
   "execution_count": 76,
   "id": "eaca4fe1-3aff-4763-8f29-bdf1b76ddea4",
   "metadata": {},
   "outputs": [
    {
     "data": {
      "text/plain": [
       "Sex     Pclass  Age Category\n",
       "female  1       adult            True\n",
       "                child            True\n",
       "                elder            True\n",
       "        2       adult            True\n",
       "                child            True\n",
       "                elder           False\n",
       "        3       adult           False\n",
       "                child           False\n",
       "                elder            True\n",
       "                infant          False\n",
       "male    1       adult           False\n",
       "                child            True\n",
       "                elder           False\n",
       "                infant           True\n",
       "        2       adult           False\n",
       "                child            True\n",
       "                elder           False\n",
       "                infant           True\n",
       "        3       adult           False\n",
       "                child           False\n",
       "                elder           False\n",
       "                infant          False\n",
       "Name: Survived, dtype: bool"
      ]
     },
     "execution_count": 76,
     "metadata": {},
     "output_type": "execute_result"
    }
   ],
   "source": [
    "alldata.groupby(['Sex','Pclass','Age Category'], group_keys=False)['Survived'].mean() * 100 >= 60"
   ]
  },
  {
   "cell_type": "markdown",
   "id": "71a0076c-26ac-4d5c-b80a-eefef9b33c69",
   "metadata": {},
   "source": [
    "<font color = 'hotpink'> It didn't really add much. The only new groups meeting our requirements were 2nd class female adults and 2nd class male children. </font>"
   ]
  },
  {
   "cell_type": "code",
   "execution_count": null,
   "id": "ab381df3-798f-4868-a039-0f2a45bd2cb3",
   "metadata": {},
   "outputs": [],
   "source": []
  }
 ],
 "metadata": {
  "kernelspec": {
   "display_name": "Python 3 (ipykernel)",
   "language": "python",
   "name": "python3"
  },
  "language_info": {
   "codemirror_mode": {
    "name": "ipython",
    "version": 3
   },
   "file_extension": ".py",
   "mimetype": "text/x-python",
   "name": "python",
   "nbconvert_exporter": "python",
   "pygments_lexer": "ipython3",
   "version": "3.9.2"
  }
 },
 "nbformat": 4,
 "nbformat_minor": 5
}
